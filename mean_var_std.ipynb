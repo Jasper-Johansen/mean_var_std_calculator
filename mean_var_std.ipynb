{
 "cells": [
  {
   "cell_type": "code",
   "execution_count": 11,
   "id": "13972344-3b09-40cd-8ec8-2d400879349a",
   "metadata": {},
   "outputs": [
    {
     "data": {
      "text/plain": [
       "{'mean': [[4.666666666666667, 4.333333333333333, 2.6666666666666665],\n",
       "  [5.0, 3.0, 3.6666666666666665],\n",
       "  3.888888888888889],\n",
       " 'variance': [[9.555555555555555, 11.555555555555557, 4.222222222222222],\n",
       "  [10.666666666666666, 0.0, 14.888888888888891],\n",
       "  9.209876543209875],\n",
       " 'standard deviation': [[3.0912061651652345,\n",
       "   3.39934634239519,\n",
       "   2.0548046676563256],\n",
       "  [3.265986323710904, 0.0, 3.8586123009300755],\n",
       "  3.0347778408328137],\n",
       " 'max': [[9, 9, 5], [9, 3, 9], 9],\n",
       " 'min': [[2, 1, 0], [1, 3, 0], 0],\n",
       " 'sum': [[14, 13, 8], [15, 9, 11], 35]}"
      ]
     },
     "execution_count": 11,
     "metadata": {},
     "output_type": "execute_result"
    }
   ],
   "source": [
    "import numpy as np\n",
    "def calculate(list):\n",
    "    \n",
    "    if len(list)<9:\n",
    "        raise ValueError(\"List must contain nine numbers.\")\n",
    "        \n",
    "    list_matrix = np.array(list).reshape(3,3)\n",
    "    means = np.mean(list_matrix,axis=0), np.mean(list_matrix,axis=1),np.mean(list_matrix)\n",
    "    means_list = [_.tolist() for _ in means]\n",
    "\n",
    "    variances = np.var(list_matrix,axis=0),np.var(list_matrix,axis=1),np.var(list_matrix)\n",
    "    variances_list = [_.tolist() for _ in variances]\n",
    "\n",
    "    stds = np.std(list_matrix,axis=0),np.std(list_matrix,axis=1),np.std(list_matrix)\n",
    "    stds_list = [_.tolist() for _ in stds]\n",
    "\n",
    "    maxs = np.max(list_matrix,axis=0),np.max(list_matrix,axis=1),np.max(list_matrix)\n",
    "    maxs_list = [_.tolist() for _ in maxs]\n",
    "\n",
    "    mins = np.min(list_matrix,axis=0),np.min(list_matrix,axis=1),np.min(list_matrix)\n",
    "    mins_list =  [_.tolist() for _ in mins]\n",
    "\n",
    "    sums = np.sum(list_matrix,axis=0),np.sum(list_matrix,axis=1),np.sum(list_matrix)\n",
    "    sums_list =  [_.tolist() for _ in sums]\n",
    "\n",
    "    key = ['mean','variance','standard deviation','max','min','sum']\n",
    "    values = [means_list, variances_list,stds_list, maxs_list, mins_list, sums_list]\n",
    "\n",
    "    calculations = dict(zip(key,values))\n",
    "    \n",
    "    return calculations\n",
    "\n",
    "calculate([9,1,5,3,3,3,2,9,0])"
   ]
  },
  {
   "cell_type": "code",
   "execution_count": null,
   "id": "345236eb-6965-4b02-9696-9edd7f67d70e",
   "metadata": {},
   "outputs": [],
   "source": []
  }
 ],
 "metadata": {
  "kernelspec": {
   "display_name": "Python 3 (ipykernel)",
   "language": "python",
   "name": "python3"
  },
  "language_info": {
   "codemirror_mode": {
    "name": "ipython",
    "version": 3
   },
   "file_extension": ".py",
   "mimetype": "text/x-python",
   "name": "python",
   "nbconvert_exporter": "python",
   "pygments_lexer": "ipython3",
   "version": "3.12.4"
  }
 },
 "nbformat": 4,
 "nbformat_minor": 5
}
